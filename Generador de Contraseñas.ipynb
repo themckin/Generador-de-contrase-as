{
 "cells": [
  {
   "cell_type": "code",
   "execution_count": 5,
   "id": "0be2d064",
   "metadata": {},
   "outputs": [
    {
     "name": "stdout",
     "output_type": "stream",
     "text": [
      "tu nueva contraseña aleatoria es : 1hAVn}Lu\n"
     ]
    }
   ],
   "source": [
    "import random\n",
    "\n",
    "letras = \"abcdefghijklmnñopqrstuvwxyz\"\n",
    "letras_mayus = letras.upper()\n",
    "numeros = \"0123456789\"\n",
    "simbolos = \"@()[]{}*,:;/-_¿?.¡$<>#&+%=\"\n",
    "\n",
    "p = letras+letras_mayus+numeros+simbolos\n",
    "\n",
    "tamaño = 8 \n",
    "\n",
    "pas = random.sample(p,tamaño)\n",
    "password = \"\".join(pas)\n",
    "print(f\"tu nueva contraseña aleatoria es : {password}\")\n"
   ]
  },
  {
   "cell_type": "code",
   "execution_count": null,
   "id": "73680403",
   "metadata": {},
   "outputs": [],
   "source": []
  }
 ],
 "metadata": {
  "kernelspec": {
   "display_name": "Python 3 (ipykernel)",
   "language": "python",
   "name": "python3"
  },
  "language_info": {
   "codemirror_mode": {
    "name": "ipython",
    "version": 3
   },
   "file_extension": ".py",
   "mimetype": "text/x-python",
   "name": "python",
   "nbconvert_exporter": "python",
   "pygments_lexer": "ipython3",
   "version": "3.11.7"
  }
 },
 "nbformat": 4,
 "nbformat_minor": 5
}
